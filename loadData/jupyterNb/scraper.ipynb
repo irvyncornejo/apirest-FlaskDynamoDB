{
  "nbformat": 4,
  "nbformat_minor": 0,
  "metadata": {
    "colab": {
      "name": "scraper.ipynb",
      "provenance": [],
      "collapsed_sections": []
    },
    "kernelspec": {
      "name": "python3",
      "display_name": "Python 3"
    },
    "language_info": {
      "name": "python"
    }
  },
  "cells": [
    {
      "cell_type": "code",
      "metadata": {
        "id": "LwtX-a9w38mf"
      },
      "source": [
        "import requests\n",
        "from bs4 import BeautifulSoup\n",
        "import re\n",
        "import json\n",
        "import numpy as np"
      ],
      "execution_count": 1,
      "outputs": []
    },
    {
      "cell_type": "code",
      "metadata": {
        "id": "j7HnSjI64Lgf"
      },
      "source": [
        "url = 'https://www.vans.es/shop/es/vans-es/zapatos-sk8-hi'"
      ],
      "execution_count": 3,
      "outputs": []
    },
    {
      "cell_type": "code",
      "metadata": {
        "id": "Fl7Njw-U4RQB"
      },
      "source": [
        "vans_sk8 = requests.get(url)"
      ],
      "execution_count": 8,
      "outputs": []
    },
    {
      "cell_type": "code",
      "metadata": {
        "id": "1YTV10rS9f7V"
      },
      "source": [
        "soup = BeautifulSoup(vans_sk8.text, 'html')"
      ],
      "execution_count": 17,
      "outputs": []
    },
    {
      "cell_type": "code",
      "metadata": {
        "id": "gcazTTzU__4y"
      },
      "source": [
        "print(soup)"
      ],
      "execution_count": null,
      "outputs": []
    },
    {
      "cell_type": "code",
      "metadata": {
        "id": "8H7XVzTpA-Pq"
      },
      "source": [
        "body = soup.find('div', attrs={'id': 'pdp-links-solr'})"
      ],
      "execution_count": 25,
      "outputs": []
    },
    {
      "cell_type": "code",
      "metadata": {
        "id": "OmqTl-j-90vR"
      },
      "source": [
        "cards = body.find_all('a')"
      ],
      "execution_count": 26,
      "outputs": []
    },
    {
      "cell_type": "code",
      "metadata": {
        "colab": {
          "base_uri": "https://localhost:8080/"
        },
        "id": "O7uwBf_G_kU6",
        "outputId": "d7f225a9-4a0a-4a1b-e3f3-09f795ee56df"
      },
      "source": [
        "print(cards[0].a.get('href'))"
      ],
      "execution_count": 29,
      "outputs": [
        {
          "output_type": "stream",
          "text": [
            "[<a href=\"https://www.vans.es/shop/es/vans-es/zapatos-sk8-hi/zapatillas-sk8-hi-vn000ts9bj4\" title=\"Zapatillas Sk8-Hi\">Zapatillas Sk8-Hi</a>, <a href=\"https://www.vans.es/shop/es/vans-es/zapatos-sk8-hi/zapatillas-sk8-hi-vn000d5iw00\" title=\"Zapatillas Sk8-Hi\">Zapatillas Sk8-Hi</a>, <a href=\"https://www.vans.es/shop/es/vans-es/zapatos-sk8-hi/zapatillas-sk8-hi-vn000d5ibka\" title=\"Zapatillas Sk8-Hi\">Zapatillas Sk8-Hi</a>, <a href=\"https://www.vans.es/shop/es/vans-es/zapatos-sk8-hi/zapatillas-sk8-hi-vn000d5iw00\" title=\"Zapatillas Sk8-Hi\">Zapatillas Sk8-Hi</a>, <a href=\"https://www.vans.es/shop/es/vans-es/zapatos-sk8-hi/zapatillas-sk8-hi-vn000d5invy\" title=\"Zapatillas Sk8-Hi\">Zapatillas Sk8-Hi</a>, <a href=\"https://www.vans.es/shop/es/vans-es/zapatos-sk8-hi/zapatillas-sk8-hi-vn000d5ib8c\" title=\"Zapatillas Sk8-Hi\">Zapatillas Sk8-Hi</a>, <a href=\"https://www.vans.es/shop/es/vans-es/zapatos-sk8-hi/zapatillas-sk8-hi-vn000d5invy\" title=\"Zapatillas Sk8-Hi\">Zapatillas Sk8-Hi</a>, <a href=\"https://www.vans.es/shop/es/vans-es/zapatos-sk8-hi/zapatillas-sk8-hi-vn000d5ib8c\" title=\"Zapatillas Sk8-Hi\">Zapatillas Sk8-Hi</a>, <a href=\"https://www.vans.es/shop/es/vans-es/zapatos-sk8-hi/zapatillas-sk8-hi-vn000d5ib8c\" title=\"Zapatillas Sk8-Hi\">Zapatillas Sk8-Hi</a>, <a href=\"https://www.vans.es/shop/es/vans-es/zapatos-sk8-hi/zapatillas-sk8-hi-vn000d5invy\" title=\"Zapatillas Sk8-Hi\">Zapatillas Sk8-Hi</a>, <a href=\"https://www.vans.es/shop/es/vans-es/zapatos-sk8-hi/zapatillas-sk8-hi-vn000d5ibka\" title=\"Zapatillas Sk8-Hi\">Zapatillas Sk8-Hi</a>, <a href=\"https://www.vans.es/shop/es/vans-es/zapatos-sk8-hi/zapatillas-sk8-hi-vn000d5ibka\" title=\"Zapatillas Sk8-Hi\">Zapatillas Sk8-Hi</a>, <a href=\"https://www.vans.es/shop/es/vans-es/zapatos-sk8-hi/zapatillas-sk8-hi-vn000d5iw00\" title=\"Zapatillas Sk8-Hi\">Zapatillas Sk8-Hi</a>, <a href=\"https://www.vans.es/shop/es/vans-es/zapatos-sk8-hi/zapatillas-junior-sk8-hi-vn000d5f6bt\" title=\"Zapatillas Junior Sk8-Hi (4-8 años)\">Zapatillas Junior Sk8-Hi (4-8 años)</a>, <a href=\"https://www.vans.es/shop/es/vans-es/zapatos-sk8-hi/zapatillas-junior-sk8-hi-vn%3A000d5f%3A6bt%3A040%3Am%3A1%3A--5\" title=\"Zapatillas Junior Sk8-Hi (4-8 años)\">Zapatillas Junior Sk8-Hi (4-8 años)</a>, <a href=\"https://www.vans.es/shop/es/vans-es/zapatos-sk8-hi/zapatillas-de-bebe-sk8-mid-reissue-v-1-4-anos-vn00018w6bt\" title=\"Zapatillas de bebé Sk8-Mid Reissue V (1-4 años)\">Zapatillas de bebé Sk8-Mid Reissue V (1-4 años)</a>, <a href=\"https://www.vans.es/shop/es/vans-es/zapatos-sk8-hi/zapatillas-sk8-hi-zip-de-bebe-1-4-anos-vn000xg5y28\" title=\"Zapatillas Sk8-Hi Zip de bebé (1-4 años)\">Zapatillas Sk8-Hi Zip de bebé (1-4 años)</a>, <a href=\"https://www.vans.es/shop/es/vans-es/zapatos-sk8-hi/zapatillas-sk8-hi-zip-de-bebe-1-4-anos-vn000xg5y28\" title=\"Zapatillas Sk8-Hi Zip de bebé (1-4 años)\">Zapatillas Sk8-Hi Zip de bebé (1-4 años)</a>, <a href=\"https://www.vans.es/shop/es/vans-es/zapatos-sk8-hi/zapatillas-sk8-hi-2-0-de-ante-con-plataforma-vn0a3tkn6bt\" title=\"Zapatillas Sk8-Hi 2.0 de ante con plataforma\">Zapatillas Sk8-Hi 2.0 de ante con plataforma</a>, <a href=\"https://www.vans.es/shop/es/vans-es/zapatos-sk8-hi/zapatillas-sk8-hi-2-0-de-ante-con-plataforma-vn0a3tkn6bt\" title=\"Zapatillas Sk8-Hi 2.0 de ante con plataforma\">Zapatillas Sk8-Hi 2.0 de ante con plataforma</a>, <a href=\"https://www.vans.es/shop/es/vans-es/zapatos-sk8-hi/zapatillas-sk8-hi-2-0-con-plataforma-vn0a3tknqlz\" title=\"Zapatillas Sk8-Hi 2.0 con plataforma\">Zapatillas Sk8-Hi 2.0 con plataforma</a>, <a href=\"https://www.vans.es/shop/es/vans-es/zapatos-sk8-hi/zapatillas-sk8-hi-2-0-con-plataforma-vn0a3tknqxh\" title=\"Zapatillas Sk8-Hi 2.0 con plataforma\">Zapatillas Sk8-Hi 2.0 con plataforma</a>, <a href=\"https://www.vans.es/shop/es/vans-es/zapatos-sk8-hi/zapatillas-sk8-hi-2-0-con-plataforma-vn0a3tknqxh\" title=\"Zapatillas Sk8-Hi 2.0 con plataforma\">Zapatillas Sk8-Hi 2.0 con plataforma</a>, <a href=\"https://www.vans.es/shop/es/vans-es/zapatos-sk8-hi/zapatillas-sk8-hi-2-0-de-ante-con-plataforma-vn0a3tkn6bt\" title=\"Zapatillas Sk8-Hi 2.0 de ante con plataforma\">Zapatillas Sk8-Hi 2.0 de ante con plataforma</a>, <a href=\"https://www.vans.es/shop/es/vans-es/zapatos-sk8-hi/zapatillas-sk8-hi-2-0-con-plataforma-vn0a3tknqlz\" title=\"Zapatillas Sk8-Hi 2.0 con plataforma\">Zapatillas Sk8-Hi 2.0 con plataforma</a>, <a href=\"https://www.vans.es/shop/es/vans-es/zapatos-sk8-hi/zapatillas-sk8-hi-2-0-con-plataforma-vn0a3tknqxh\" title=\"Zapatillas Sk8-Hi 2.0 con plataforma\">Zapatillas Sk8-Hi 2.0 con plataforma</a>, <a href=\"https://www.vans.es/shop/es/vans-es/zapatos-sk8-hi/zapatillas-sk8-hi-2-0-con-plataforma-vn0a3tknqlz\" title=\"Zapatillas Sk8-Hi 2.0 con plataforma\">Zapatillas Sk8-Hi 2.0 con plataforma</a>, <a href=\"https://www.vans.es/shop/es/vans-es/zapatos-sk8-hi/zapatillas-sk8-hi-2-0-de-ante-con-plataforma-vn0a3tkn6bt\" title=\"Zapatillas Sk8-Hi 2.0 de ante con plataforma\">Zapatillas Sk8-Hi 2.0 de ante con plataforma</a>, <a href=\"https://www.vans.es/shop/es/vans-es/zapatos-sk8-hi/zapatillas-sk8-hi-2-0-con-plataforma-vn0a3tknqlz\" title=\"Zapatillas Sk8-Hi 2.0 con plataforma\">Zapatillas Sk8-Hi 2.0 con plataforma</a>, <a href=\"https://www.vans.es/shop/es/vans-es/zapatos-sk8-hi/zapatillas-sk8-hi-2-0-con-plataforma-vn0a3tknqxh\" title=\"Zapatillas Sk8-Hi 2.0 con plataforma\">Zapatillas Sk8-Hi 2.0 con plataforma</a>, <a href=\"https://www.vans.es/shop/es/vans-es/zapatos-sk8-hi?esp_cf=Size&amp;esp_filter_Size=38.5\">38.5</a>, <a href=\"https://www.vans.es/shop/es/vans-es/zapatos-sk8-hi?esp_cf=Size&amp;esp_filter_Size=35\">35</a>, <a href=\"https://www.vans.es/shop/es/vans-es/zapatos-sk8-hi?esp_cf=Size&amp;esp_filter_Size=36.5\">36.5</a>, <a href=\"https://www.vans.es/shop/es/vans-es/zapatos-sk8-hi?esp_cf=Size&amp;esp_filter_Size=36\">36</a>, <a href=\"https://www.vans.es/shop/es/vans-es/zapatos-sk8-hi?esp_cf=Size&amp;esp_filter_Size=38\">38</a>, <a href=\"https://www.vans.es/shop/es/vans-es/zapatos-sk8-hi?esp_cf=Size&amp;esp_filter_Size=37\">37</a>, <a href=\"https://www.vans.es/shop/es/vans-es/zapatos-sk8-hi?esp_cf=Size&amp;esp_filter_Size=44.5\">44.5</a>, <a href=\"https://www.vans.es/shop/es/vans-es/zapatos-sk8-hi?esp_cf=Size&amp;esp_filter_Size=39\">39</a>, <a href=\"https://www.vans.es/shop/es/vans-es/zapatos-sk8-hi?esp_cf=Size&amp;esp_filter_Size=42\">42</a>, <a href=\"https://www.vans.es/shop/es/vans-es/zapatos-sk8-hi?esp_cf=Size&amp;esp_filter_Size=40.5\">40.5</a>, <a href=\"https://www.vans.es/shop/es/vans-es/zapatos-sk8-hi?esp_cf=Size&amp;esp_filter_Size=42.5\">42.5</a>, <a href=\"https://www.vans.es/shop/es/vans-es/zapatos-sk8-hi?esp_cf=Size&amp;esp_filter_Size=43\">43</a>, <a href=\"https://www.vans.es/shop/es/vans-es/zapatos-sk8-hi?esp_cf=Size&amp;esp_filter_Size=40\">40</a>, <a href=\"https://www.vans.es/shop/es/vans-es/zapatos-sk8-hi?esp_cf=Size&amp;esp_filter_Size=47\">47</a>, <a href=\"https://www.vans.es/shop/es/vans-es/zapatos-sk8-hi?esp_cf=Size&amp;esp_filter_Size=44\">44</a>, <a href=\"https://www.vans.es/shop/es/vans-es/zapatos-sk8-hi?esp_cf=Size&amp;esp_filter_Size=46\">46</a>, <a href=\"https://www.vans.es/shop/es/vans-es/zapatos-sk8-hi?esp_cf=Size&amp;esp_filter_Size=41\">41</a>, <a href=\"https://www.vans.es/shop/es/vans-es/zapatos-sk8-hi?esp_cf=Size&amp;esp_filter_Size=45\">45</a>, <a href=\"https://www.vans.es/shop/es/vans-es/zapatos-sk8-hi?esp_cf=Size&amp;esp_filter_Size=34.5\">34.5</a>, <a href=\"https://www.vans.es/shop/es/vans-es/zapatos-sk8-hi?esp_cf=Size&amp;esp_filter_Size=27\">27</a>, <a href=\"https://www.vans.es/shop/es/vans-es/zapatos-sk8-hi?esp_cf=COLOR_FAMILY&amp;esp_filter_COLOR_FAMILY=Negro\">Negro</a>, <a href=\"https://www.vans.es/shop/es/vans-es/zapatos-sk8-hi?esp_cf=COLOR_FAMILY&amp;esp_filter_COLOR_FAMILY=Blanco\">Blanco</a>, <a href=\"https://www.vans.es/shop/es/vans-es/zapatos-sk8-hi?esp_cf=COLOR_FAMILY&amp;esp_filter_COLOR_FAMILY=Multicolour\">Multicolour</a>, <a href=\"https://www.vans.es/shop/es/vans-es/zapatos-sk8-hi?esp_cf=COLOR_FAMILY&amp;esp_filter_COLOR_FAMILY=Rojo\">Rojo</a>, <a href=\"https://www.vans.es/shop/es/vans-es/zapatos-sk8-hi?esp_cf=COLOR_FAMILY&amp;esp_filter_COLOR_FAMILY=Azul\">Azul</a>, <a href=\"https://www.vans.es/shop/es/vans-es/zapatos-sk8-hi?esp_cf=COLOR_FAMILY&amp;esp_filter_COLOR_FAMILY=Marrón\">Marrón</a>, <a href=\"https://www.vans.es/shop/es/vans-es/zapatos-sk8-hi?esp_cf=COLOR_FAMILY&amp;esp_filter_COLOR_FAMILY=Verde\">Verde</a>, <a href=\"https://www.vans.es/shop/es/vans-es/zapatos-sk8-hi?esp_cf=COLOR_FAMILY&amp;esp_filter_COLOR_FAMILY=Amarillo\">Amarillo</a>, <a href=\"https://www.vans.es/shop/es/vans-es/zapatos-sk8-hi?esp_cf=COLOR_FAMILY&amp;esp_filter_COLOR_FAMILY=Gris\">Gris</a>, <a href=\"https://www.vans.es/shop/es/vans-es/zapatos-sk8-hi?esp_cf=COLOR_FAMILY&amp;esp_filter_COLOR_FAMILY=Rosa\">Rosa</a>, <a href=\"https://www.vans.es/shop/es/vans-es/zapatos-sk8-hi?esp_cf=COLOR_FAMILY&amp;esp_filter_COLOR_FAMILY=Beis\">Beis</a>, <a href=\"https://www.vans.es/shop/es/vans-es/zapatos-sk8-hi?esp_cf=COLOR_FAMILY&amp;esp_filter_COLOR_FAMILY=Naranjo\">Naranjo</a>, <a href=\"https://www.vans.es/shop/es/vans-es/zapatos-sk8-hi?esp_cf=COLOR_FAMILY&amp;esp_filter_COLOR_FAMILY=Navy\">Navy</a>, <a href=\"https://www.vans.es/shop/es/vans-es/zapatos-sk8-hi?esp_cf=COLOR_FAMILY&amp;esp_filter_COLOR_FAMILY=Púrpura\">Púrpura</a>, <a href=\"https://www.vans.es/shop/es/vans-es/zapatos-sk8-hi?esp_cf=COLOR_FAMILY&amp;esp_filter_COLOR_FAMILY=Silver\">Silver</a>]\n"
          ],
          "name": "stdout"
        }
      ]
    },
    {
      "cell_type": "code",
      "metadata": {
        "id": "YOsVGGYlFdr6"
      },
      "source": [
        "hrefs = [card.get('href') for card in cards if card.get('href').find('zapatillas') != -1]"
      ],
      "execution_count": 39,
      "outputs": []
    },
    {
      "cell_type": "code",
      "metadata": {
        "colab": {
          "base_uri": "https://localhost:8080/"
        },
        "id": "0PeUj4M0IE-h",
        "outputId": "94706efb-afbb-419b-e53b-41286b7328f1"
      },
      "source": [
        "print(hrefs)"
      ],
      "execution_count": 40,
      "outputs": [
        {
          "output_type": "stream",
          "text": [
            "['https://www.vans.es/shop/es/vans-es/zapatos-sk8-hi/zapatillas-sk8-hi-vn000ts9bj4', 'https://www.vans.es/shop/es/vans-es/zapatos-sk8-hi/zapatillas-sk8-hi-vn000d5iw00', 'https://www.vans.es/shop/es/vans-es/zapatos-sk8-hi/zapatillas-sk8-hi-vn000d5ibka', 'https://www.vans.es/shop/es/vans-es/zapatos-sk8-hi/zapatillas-sk8-hi-vn000d5iw00', 'https://www.vans.es/shop/es/vans-es/zapatos-sk8-hi/zapatillas-sk8-hi-vn000d5invy', 'https://www.vans.es/shop/es/vans-es/zapatos-sk8-hi/zapatillas-sk8-hi-vn000d5ib8c', 'https://www.vans.es/shop/es/vans-es/zapatos-sk8-hi/zapatillas-sk8-hi-vn000d5invy', 'https://www.vans.es/shop/es/vans-es/zapatos-sk8-hi/zapatillas-sk8-hi-vn000d5ib8c', 'https://www.vans.es/shop/es/vans-es/zapatos-sk8-hi/zapatillas-sk8-hi-vn000d5ib8c', 'https://www.vans.es/shop/es/vans-es/zapatos-sk8-hi/zapatillas-sk8-hi-vn000d5invy', 'https://www.vans.es/shop/es/vans-es/zapatos-sk8-hi/zapatillas-sk8-hi-vn000d5ibka', 'https://www.vans.es/shop/es/vans-es/zapatos-sk8-hi/zapatillas-sk8-hi-vn000d5ibka', 'https://www.vans.es/shop/es/vans-es/zapatos-sk8-hi/zapatillas-sk8-hi-vn000d5iw00', 'https://www.vans.es/shop/es/vans-es/zapatos-sk8-hi/zapatillas-junior-sk8-hi-vn000d5f6bt', 'https://www.vans.es/shop/es/vans-es/zapatos-sk8-hi/zapatillas-junior-sk8-hi-vn%3A000d5f%3A6bt%3A040%3Am%3A1%3A--5', 'https://www.vans.es/shop/es/vans-es/zapatos-sk8-hi/zapatillas-de-bebe-sk8-mid-reissue-v-1-4-anos-vn00018w6bt', 'https://www.vans.es/shop/es/vans-es/zapatos-sk8-hi/zapatillas-sk8-hi-zip-de-bebe-1-4-anos-vn000xg5y28', 'https://www.vans.es/shop/es/vans-es/zapatos-sk8-hi/zapatillas-sk8-hi-zip-de-bebe-1-4-anos-vn000xg5y28', 'https://www.vans.es/shop/es/vans-es/zapatos-sk8-hi/zapatillas-sk8-hi-2-0-de-ante-con-plataforma-vn0a3tkn6bt', 'https://www.vans.es/shop/es/vans-es/zapatos-sk8-hi/zapatillas-sk8-hi-2-0-de-ante-con-plataforma-vn0a3tkn6bt', 'https://www.vans.es/shop/es/vans-es/zapatos-sk8-hi/zapatillas-sk8-hi-2-0-con-plataforma-vn0a3tknqlz', 'https://www.vans.es/shop/es/vans-es/zapatos-sk8-hi/zapatillas-sk8-hi-2-0-con-plataforma-vn0a3tknqxh', 'https://www.vans.es/shop/es/vans-es/zapatos-sk8-hi/zapatillas-sk8-hi-2-0-con-plataforma-vn0a3tknqxh', 'https://www.vans.es/shop/es/vans-es/zapatos-sk8-hi/zapatillas-sk8-hi-2-0-de-ante-con-plataforma-vn0a3tkn6bt', 'https://www.vans.es/shop/es/vans-es/zapatos-sk8-hi/zapatillas-sk8-hi-2-0-con-plataforma-vn0a3tknqlz', 'https://www.vans.es/shop/es/vans-es/zapatos-sk8-hi/zapatillas-sk8-hi-2-0-con-plataforma-vn0a3tknqxh', 'https://www.vans.es/shop/es/vans-es/zapatos-sk8-hi/zapatillas-sk8-hi-2-0-con-plataforma-vn0a3tknqlz', 'https://www.vans.es/shop/es/vans-es/zapatos-sk8-hi/zapatillas-sk8-hi-2-0-de-ante-con-plataforma-vn0a3tkn6bt', 'https://www.vans.es/shop/es/vans-es/zapatos-sk8-hi/zapatillas-sk8-hi-2-0-con-plataforma-vn0a3tknqlz', 'https://www.vans.es/shop/es/vans-es/zapatos-sk8-hi/zapatillas-sk8-hi-2-0-con-plataforma-vn0a3tknqxh']\n"
          ],
          "name": "stdout"
        }
      ]
    },
    {
      "cell_type": "code",
      "metadata": {
        "id": "GQDx4a4CJpnl"
      },
      "source": [
        "data_shoe = requests.get('https://www.vans.es/shop/es/vans-es/zapatos-sk8-hi/zapatillas-sk8-hi-vn000ts9bj4')"
      ],
      "execution_count": 154,
      "outputs": []
    },
    {
      "cell_type": "code",
      "metadata": {
        "id": "HcmMmKJAL6jl"
      },
      "source": [
        "soup_shoe = BeautifulSoup(data_shoe.text, 'html')"
      ],
      "execution_count": 155,
      "outputs": []
    },
    {
      "cell_type": "code",
      "metadata": {
        "id": "WWiAIChWMFAw"
      },
      "source": [
        "print(soup_shoe)"
      ],
      "execution_count": null,
      "outputs": []
    },
    {
      "cell_type": "code",
      "metadata": {
        "colab": {
          "base_uri": "https://localhost:8080/"
        },
        "id": "z1HqjD6Bg30f",
        "outputId": "338770cf-a53e-4926-8631-0f90a27b9318"
      },
      "source": [
        "data = soup_shoe.find_all('meta')\n",
        "print(data)"
      ],
      "execution_count": 157,
      "outputs": [
        {
          "output_type": "stream",
          "text": [
            "[<meta content=\"Zapatillas Sk8-Hi | Negro | Vans\" name=\"title\"/>, <meta content=\"Descubre Zapatillas Sk8-Hi hoy en Vans. La tienda oficial online. Envío y devoluciones gratuitas.\" name=\"description\"/>, <meta content=\"Zapatillas Sk8-Hi | Negro | Vans\" property=\"og:title\"/>, <meta content=\"Vans Spain\" property=\"og:site_name\"/>, <meta content=\"product\" property=\"og:type\"/>, <meta content=\"Descubre Zapatillas Sk8-Hi hoy en Vans. La tienda oficial online. Envío y devoluciones gratuitas.\" property=\"og:description\"/>, <meta content=\"85.00\" property=\"og:price:amount\"/>, <meta content=\"EUR\" property=\"og:price:currency\"/>, <meta content=\"VFAjaxProductAvailabilityView?requestype=ajax\" property=\"og:availability:url\"/>, <meta content=\"VFAjaxItemPricingView?requestype=ajax\" property=\"og:price:url\"/>, <meta content=\"3489139\" property=\"og:productId\"/>, <meta content=\"https://www.vans.es/shop/es/vans-es/men-sc-es-men/sk8-hi-shoes-vn000ts9bj4--1\" property=\"og:url\"/>, <meta content=\"https://images.vans.com/is/image/VansEU/VN000TS9BJ4-HERO\" property=\"og:image\"/>, <meta content=\"1500\" property=\"og:image:width\"/>, <meta content=\"1500\" property=\"og:image:height\"/>, <meta content=\"Vans\" property=\"og:brand\"/>, <meta content=\"\" property=\"fb:page_id\"/>, <meta content=\"285355374841467\" property=\"fb:app_id\"/>, <meta content=\"text/html; charset=utf-8\" http-equiv=\"content-type\"/>, <meta content=\"width=device-width, initial-scale=1\" name=\"viewport\"/>, <meta content=\"10162\" name=\"storeId\"/>, <meta content=\"-5\" name=\"langId\"/>, <meta content=\"es_ES\" name=\"locale\"/>, <meta content=\"11256\" name=\"catalogId\"/>, <meta content=\"true\" name=\"ecomEnabled\"/>, <meta content=\"1\" itemprop=\"position\"/>, <meta content=\"2\" itemprop=\"position\"/>, <meta content=\"3\" itemprop=\"position\"/>, <meta content=\"Share on Facebook\" itemprop=\"name\"/>, <meta content=\"https://www.vans.es/shop/es/vans-es/hombre/zapatillas-sk8-hi-vn000ts9bj4\" itemprop=\"url\"/>, <meta content=\"Tweet\" itemprop=\"name\"/>, <meta content=\"https://www.vans.es/shop/es/vans-es/hombre/zapatillas-sk8-hi-vn000ts9bj4\" itemprop=\"url\"/>, <meta content=\"Email\" itemprop=\"name\"/>, <meta content=\"https://www.vans.es/shop/es/vans-es/hombre/zapatillas-sk8-hi-vn000ts9bj4\" itemprop=\"url\"/>, <meta content=\"Vans\" itemprop=\"name\"/>, <meta content=\"https://images.vans.com/is/image/VansBrand/vans-logo-google?$original-file$\" itemprop=\"logo\"/>, <meta content=\"Vans\" itemprop=\"name\"/>, <meta content=\"https://www.vans.es/shop/es/vans-es/zapatillas-sk8-hi-vn000ts9bj4\" itemprop=\"url\"/>, <meta content=\"VN000TS9BJ4\" itemprop=\"productID\"/>, <meta content=\"Zapatillas Sk8-Hi\" itemprop=\"name\"/>, <meta content=\"https://images.vans.com/is/image/VansEU/VN000TS9BJ4-HERO\" itemprop=\"image\"/>, <meta content=\"Las Sk8-Hi de Vans son unas zapatillas altas con cordones que incluyen una puntera reforzada para resistir el desgaste, cuello acolchado que aporta sujeción y flexibilidad, y la distintiva suela waffle de caucho para un agarre más firme.&lt;br/&gt;&lt;br/&gt;&lt;b&gt;Material&lt;/b&gt;:8 % cuero, 92 % lona\" itemprop=\"description\"/>, <meta content=\"VN000TS9BJ4\" itemprop=\"model\"/>, <meta content=\"0,0\" itemprop=\"ratingValue\"/>, <meta content=\"0\" itemprop=\"reviewCount\"/>, <meta content=\"85.00\" itemprop=\"price\"/>, <meta content=\"EUR\" itemprop=\"priceCurrency\"/>, <meta content=\"http://schema.org/NewCondition\" itemprop=\"itemCondition\" itemtype=\"http://schema.org/OfferItemCondition\"/>, <meta content=\"1346334\" name=\"categoryId\"/>, <meta content=\"vans\" itemprop=\"name\"/>, <meta content=\"https://www.vans.es\" itemprop=\"url\"/>]\n"
          ],
          "name": "stdout"
        }
      ]
    },
    {
      "cell_type": "code",
      "metadata": {
        "colab": {
          "base_uri": "https://localhost:8080/"
        },
        "id": "caP9j8sqiaXe",
        "outputId": "562d209c-8397-4a54-93b4-2cbd7558da0c"
      },
      "source": [
        "data = soup_shoe.select_one('span[data-power-reviews-service-options*=prLocale]')\n",
        "print(json.loads(data['data-power-reviews-service-options']))"
      ],
      "execution_count": 166,
      "outputs": [
        {
          "output_type": "stream",
          "text": [
            "{'prLocale': 'es_ES', 'merchantGroupId': '47478', 'merchantId': '668644', 'prPageID': 'VN000TS9BJ4', 'writeReviewUrl': 'https://www.vans.es/shop/VFPRReviewFormView?productId=3489139&langId=-5&storeId=10162', 'productName': 'Zapatillas Sk8-Hi', 'productLongDescription': 'Las Sk8-Hi de Vans son unas zapatillas altas con cordones que incluyen una puntera reforzada para resistir el desgaste, cuello acolchado que aporta sujeción y flexibilidad, y la distintiva suela waffle de caucho para un agarre más firme.<br/><br/><b>Material</b>:8\\xa0% cuero, 92\\xa0% lona', 'productPublished': '1', 'canonicalProductURL': 'https://www.vans.es/shop/es/vans-es/hombre/zapatillas-sk8-hi-vn000ts9bj4', 'metaImageURL': '//images.vans.com/is/image/VansEU/VN000TS9BJ4-HERO', 'seoCategoryName': 'Zapatos', 'upc': '', 'brandStoreName': 'Vans', 'ogPrice': 85, 'pwrDir': '/wcsstore/vans-es/', 'page_id': 'VN000TS9BJ4', 'writeQuestionUrl': 'https://www.vans.es/shop/VFPRReviewFormView?productId=3489139&appName=askQuestion&langId=-5&storeId=10162', 'writeAnswerUrl': 'https://www.vans.es/shop/VFPRReviewFormView?questionId=@@@QUESTION_ID@@@&productId=3489139&appName=answerQuestion&langId=-5&storeId=10162', 'qaEnabled': False, 'prTabbedViewEnabled': False, 'prDisplaySnapshotType': 'SIMPLE', 'prAPIKey': '36b8fba2-ea07-48de-aa65-0b9af3007e71', 'prDisplay4URL': '//ui.powerreviews.com/stable/4.0/ui.js', 'prDisplay4SnapshotAboveOlapic': False, 'prDisplay4IncludeImageDisplay': False, 'prFeedlessEnabled': False, 'whyDidYouBuyProd': False}\n"
          ],
          "name": "stdout"
        }
      ]
    },
    {
      "cell_type": "code",
      "metadata": {
        "id": "3k8s5mQvNdqj"
      },
      "source": [
        "body_product = soup.find_all('span', attrs={'class':'hide power-reviews-service-js'})"
      ],
      "execution_count": 210,
      "outputs": []
    },
    {
      "cell_type": "code",
      "metadata": {
        "colab": {
          "base_uri": "https://localhost:8080/"
        },
        "id": "fy-YRQncNoZl",
        "outputId": "6b416ce2-f6b9-4421-8dfb-bc9ff8e6dce6"
      },
      "source": [
        "print(body_product)"
      ],
      "execution_count": 211,
      "outputs": [
        {
          "output_type": "stream",
          "text": [
            "[]\n"
          ],
          "name": "stdout"
        }
      ]
    },
    {
      "cell_type": "code",
      "metadata": {
        "colab": {
          "base_uri": "https://localhost:8080/"
        },
        "id": "OPG7gFRuT-v_",
        "outputId": "55d40ebf-a94b-427e-cb66-7b5d055779bc"
      },
      "source": [
        "s = soup_shoe.find_all('script', type=\"text/javascript\")[2]\n",
        "print(type(s))\n",
        "s = str(s)\n",
        "last = int(s.find('};'))\n",
        "firts = int(s.find('var itemPrices = '))\n",
        "print(json.loads(s[firts+17:last+1]))\n"
      ],
      "execution_count": 167,
      "outputs": [
        {
          "output_type": "stream",
          "text": [
            "<class 'bs4.element.Tag'>\n",
            "{'3489139': {'pricing': {'productId': '3489139', 'default': {'lowPrice': '€ 85,00', 'lowPriceNumeric': 85, 'highPrice': '€ 85,00', 'highPriceNumeric': 85, 'lowListPrice': '€ 85,00', 'lowListPriceNumeric': 85, 'highListPrice': '€ 85,00', 'highListPriceNumeric': 85}, '7000000000000013954': {'50': {'highPrice': '€ 85,00', 'highPriceNumeric': 85, 'lowPrice': '€ 85,00', 'lowPriceNumeric': 85, 'highListPrice': '€ 85,00', 'highListPriceNumeric': 85, 'lowListPrice': '€ 85,00', 'lowListPriceNumeric': 85, 'sku': [3489140]}, '44.5': {'highPrice': '€ 85,00', 'highPriceNumeric': 85, 'lowPrice': '€ 85,00', 'lowPriceNumeric': 85, 'highListPrice': '€ 85,00', 'highListPriceNumeric': 85, 'lowListPrice': '€ 85,00', 'lowListPriceNumeric': 85, 'sku': [3489146]}, '38.5': {'highPrice': '€ 85,00', 'highPriceNumeric': 85, 'lowPrice': '€ 85,00', 'lowPriceNumeric': 85, 'highListPrice': '€ 85,00', 'highListPriceNumeric': 85, 'lowListPrice': '€ 85,00', 'lowListPriceNumeric': 85, 'sku': [3489155]}, '39': {'highPrice': '€ 85,00', 'highPriceNumeric': 85, 'lowPrice': '€ 85,00', 'lowPriceNumeric': 85, 'highListPrice': '€ 85,00', 'highListPriceNumeric': 85, 'lowListPrice': '€ 85,00', 'lowListPriceNumeric': 85, 'sku': [3489154]}, '38': {'highPrice': '€ 85,00', 'highPriceNumeric': 85, 'lowPrice': '€ 85,00', 'lowPriceNumeric': 85, 'highListPrice': '€ 85,00', 'highListPriceNumeric': 85, 'lowListPrice': '€ 85,00', 'lowListPriceNumeric': 85, 'sku': [3489156]}, '37': {'highPrice': '€ 85,00', 'highPriceNumeric': 85, 'lowPrice': '€ 85,00', 'lowPriceNumeric': 85, 'highListPrice': '€ 85,00', 'highListPriceNumeric': 85, 'lowListPrice': '€ 85,00', 'lowListPriceNumeric': 85, 'sku': [3489157]}, '36': {'highPrice': '€ 85,00', 'highPriceNumeric': 85, 'lowPrice': '€ 85,00', 'lowPriceNumeric': 85, 'highListPrice': '€ 85,00', 'highListPriceNumeric': 85, 'lowListPrice': '€ 85,00', 'lowListPriceNumeric': 85, 'sku': [3489159]}, '35': {'highPrice': '€ 85,00', 'highPriceNumeric': 85, 'lowPrice': '€ 85,00', 'lowPriceNumeric': 85, 'highListPrice': '€ 85,00', 'highListPriceNumeric': 85, 'lowListPrice': '€ 85,00', 'lowListPriceNumeric': 85, 'sku': [3489160]}, '49': {'highPrice': '€ 85,00', 'highPriceNumeric': 85, 'lowPrice': '€ 85,00', 'lowPriceNumeric': 85, 'highListPrice': '€ 85,00', 'highListPriceNumeric': 85, 'lowListPrice': '€ 85,00', 'lowListPriceNumeric': 85, 'sku': [3489141]}, '48': {'highPrice': '€ 85,00', 'highPriceNumeric': 85, 'lowPrice': '€ 85,00', 'lowPriceNumeric': 85, 'highListPrice': '€ 85,00', 'highListPriceNumeric': 85, 'lowListPrice': '€ 85,00', 'lowListPriceNumeric': 85, 'sku': [3489142]}, '47': {'highPrice': '€ 85,00', 'highPriceNumeric': 85, 'lowPrice': '€ 85,00', 'lowPriceNumeric': 85, 'highListPrice': '€ 85,00', 'highListPriceNumeric': 85, 'lowListPrice': '€ 85,00', 'lowListPriceNumeric': 85, 'sku': [3489143]}, '46': {'highPrice': '€ 85,00', 'highPriceNumeric': 85, 'lowPrice': '€ 85,00', 'lowPriceNumeric': 85, 'highListPrice': '€ 85,00', 'highListPriceNumeric': 85, 'lowListPrice': '€ 85,00', 'lowListPriceNumeric': 85, 'sku': [3489144]}, '45': {'highPrice': '€ 85,00', 'highPriceNumeric': 85, 'lowPrice': '€ 85,00', 'lowPriceNumeric': 85, 'highListPrice': '€ 85,00', 'highListPriceNumeric': 85, 'lowListPrice': '€ 85,00', 'lowListPriceNumeric': 85, 'sku': [3489145]}, '44': {'highPrice': '€ 85,00', 'highPriceNumeric': 85, 'lowPrice': '€ 85,00', 'lowPriceNumeric': 85, 'highListPrice': '€ 85,00', 'highListPriceNumeric': 85, 'lowListPrice': '€ 85,00', 'lowListPriceNumeric': 85, 'sku': [3489147]}, '43': {'highPrice': '€ 85,00', 'highPriceNumeric': 85, 'lowPrice': '€ 85,00', 'lowPriceNumeric': 85, 'highListPrice': '€ 85,00', 'highListPriceNumeric': 85, 'lowListPrice': '€ 85,00', 'lowListPriceNumeric': 85, 'sku': [3489148]}, '42': {'highPrice': '€ 85,00', 'highPriceNumeric': 85, 'lowPrice': '€ 85,00', 'lowPriceNumeric': 85, 'highListPrice': '€ 85,00', 'highListPriceNumeric': 85, 'lowListPrice': '€ 85,00', 'lowListPriceNumeric': 85, 'sku': [3489150]}, '41': {'highPrice': '€ 85,00', 'highPriceNumeric': 85, 'lowPrice': '€ 85,00', 'lowPriceNumeric': 85, 'highListPrice': '€ 85,00', 'highListPriceNumeric': 85, 'lowListPrice': '€ 85,00', 'lowListPriceNumeric': 85, 'sku': [3489151]}, '40': {'highPrice': '€ 85,00', 'highPriceNumeric': 85, 'lowPrice': '€ 85,00', 'lowPriceNumeric': 85, 'highListPrice': '€ 85,00', 'highListPriceNumeric': 85, 'lowListPrice': '€ 85,00', 'lowListPriceNumeric': 85, 'sku': [3489153]}, '40.5': {'highPrice': '€ 85,00', 'highPriceNumeric': 85, 'lowPrice': '€ 85,00', 'lowPriceNumeric': 85, 'highListPrice': '€ 85,00', 'highListPriceNumeric': 85, 'lowListPrice': '€ 85,00', 'lowListPriceNumeric': 85, 'sku': [3489152]}, '34.5': {'highPrice': '€ 85,00', 'highPriceNumeric': 85, 'lowPrice': '€ 85,00', 'lowPriceNumeric': 85, 'highListPrice': '€ 85,00', 'highListPriceNumeric': 85, 'lowListPrice': '€ 85,00', 'lowListPriceNumeric': 85, 'sku': [3489161]}, '42.5': {'highPrice': '€ 85,00', 'highPriceNumeric': 85, 'lowPrice': '€ 85,00', 'lowPriceNumeric': 85, 'highListPrice': '€ 85,00', 'highListPriceNumeric': 85, 'lowListPrice': '€ 85,00', 'lowListPriceNumeric': 85, 'sku': [3489149]}, '36.5': {'highPrice': '€ 85,00', 'highPriceNumeric': 85, 'lowPrice': '€ 85,00', 'lowPriceNumeric': 85, 'highListPrice': '€ 85,00', 'highListPriceNumeric': 85, 'lowListPrice': '€ 85,00', 'lowListPriceNumeric': 85, 'sku': [3489158]}}, 'sku': {'3489161': {'listPrice': '€ 85,00', 'listPriceNumeric': 85, 'price': '€ 85,00', 'priceNumeric': 85}, '3489160': {'listPrice': '€ 85,00', 'listPriceNumeric': 85, 'price': '€ 85,00', 'priceNumeric': 85}, '3489159': {'listPrice': '€ 85,00', 'listPriceNumeric': 85, 'price': '€ 85,00', 'priceNumeric': 85}, '3489158': {'listPrice': '€ 85,00', 'listPriceNumeric': 85, 'price': '€ 85,00', 'priceNumeric': 85}, '3489157': {'listPrice': '€ 85,00', 'listPriceNumeric': 85, 'price': '€ 85,00', 'priceNumeric': 85}, '3489156': {'listPrice': '€ 85,00', 'listPriceNumeric': 85, 'price': '€ 85,00', 'priceNumeric': 85}, '3489155': {'listPrice': '€ 85,00', 'listPriceNumeric': 85, 'price': '€ 85,00', 'priceNumeric': 85}, '3489154': {'listPrice': '€ 85,00', 'listPriceNumeric': 85, 'price': '€ 85,00', 'priceNumeric': 85}, '3489153': {'listPrice': '€ 85,00', 'listPriceNumeric': 85, 'price': '€ 85,00', 'priceNumeric': 85}, '3489152': {'listPrice': '€ 85,00', 'listPriceNumeric': 85, 'price': '€ 85,00', 'priceNumeric': 85}, '3489151': {'listPrice': '€ 85,00', 'listPriceNumeric': 85, 'price': '€ 85,00', 'priceNumeric': 85}, '3489150': {'listPrice': '€ 85,00', 'listPriceNumeric': 85, 'price': '€ 85,00', 'priceNumeric': 85}, '3489149': {'listPrice': '€ 85,00', 'listPriceNumeric': 85, 'price': '€ 85,00', 'priceNumeric': 85}, '3489148': {'listPrice': '€ 85,00', 'listPriceNumeric': 85, 'price': '€ 85,00', 'priceNumeric': 85}, '3489147': {'listPrice': '€ 85,00', 'listPriceNumeric': 85, 'price': '€ 85,00', 'priceNumeric': 85}, '3489146': {'listPrice': '€ 85,00', 'listPriceNumeric': 85, 'price': '€ 85,00', 'priceNumeric': 85}, '3489145': {'listPrice': '€ 85,00', 'listPriceNumeric': 85, 'price': '€ 85,00', 'priceNumeric': 85}, '3489144': {'listPrice': '€ 85,00', 'listPriceNumeric': 85, 'price': '€ 85,00', 'priceNumeric': 85}, '3489143': {'listPrice': '€ 85,00', 'listPriceNumeric': 85, 'price': '€ 85,00', 'priceNumeric': 85}, '3489142': {'listPrice': '€ 85,00', 'listPriceNumeric': 85, 'price': '€ 85,00', 'priceNumeric': 85}, '3489141': {'listPrice': '€ 85,00', 'listPriceNumeric': 85, 'price': '€ 85,00', 'priceNumeric': 85}, '3489140': {'listPrice': '€ 85,00', 'listPriceNumeric': 85, 'price': '€ 85,00', 'priceNumeric': 85}}}}}\n"
          ],
          "name": "stdout"
        }
      ]
    },
    {
      "cell_type": "code",
      "metadata": {
        "id": "5tn_yNO_yrPU"
      },
      "source": [
        "class Scraper:\n",
        "    def __init__(self):\n",
        "        self.request = lambda url: requests.get(url)\n",
        "        self.soup = lambda page: BeautifulSoup(page.text, 'html')\n",
        "        self.shoes_data = list()\n",
        "\n",
        "    def create_data_shoes(self):\n",
        "        types = ['zapatos-slip-on', 'zapatos-era', 'zapatos-old-skool', 'zapatos-sk8-hi', 'zapatos-authentic']\n",
        "        [self.__get_data_shoe(shoes_type) for shoes_type in types]\n",
        "        return self.shoes_data\n",
        "    \n",
        "    def __get_data_global_shoes(self, shoes_type):\n",
        "        page_shoes_by_category = self.request(f'https://www.vans.es/shop/es/vans-es/{shoes_type}')\n",
        "        soup_page_shoes = self.soup(page_shoes_by_category)\n",
        "        body = soup_page_shoes.find('div', attrs={'id': 'pdp-links-solr'})\n",
        "        shoes_a = body.find_all('a')\n",
        "        hrefs = [card.get('href') for card in shoes_a if card.get('href').find('zapatillas') != -1 and card.get('href').find('%') == -1]\n",
        "        hrefs = np.unique(hrefs)\n",
        "        return hrefs.tolist()\n",
        "        \n",
        "    def __get_data_shoe(self,shoes_type):\n",
        "        try:\n",
        "            shoes_link_href = self.__get_data_global_shoes(shoes_type)\n",
        "            for shoe_link in shoes_link_href[0:5]:\n",
        "                page_shoe = self.request(shoe_link)\n",
        "                soup_page_shoe = self.soup(page_shoe)\n",
        "                id_shoe = soup_page_shoe.find(\"meta\", property=\"og:productId\")['content']\n",
        "                data_shoe = soup_page_shoe.select_one('span[data-power-reviews-service-options*=prLocale]')\n",
        "                data_shoe_json = json.loads(data_shoe['data-power-reviews-service-options'])\n",
        "                data_shoe_json['product_id'] = id_shoe\n",
        "                data_shoe_json['shoes_type'] = shoes_type\n",
        "                self.shoes_data.append(data_shoe_json)\n",
        "        except:\n",
        "            print('Error')\n"
      ],
      "execution_count": 2,
      "outputs": []
    },
    {
      "cell_type": "code",
      "metadata": {
        "colab": {
          "base_uri": "https://localhost:8080/"
        },
        "id": "Q0XDX7dQ3Gus",
        "outputId": "bfd9b811-1876-4e47-ab64-56794acd0ced"
      },
      "source": [
        "len(Scraper().create_data_shoes())"
      ],
      "execution_count": 4,
      "outputs": [
        {
          "output_type": "stream",
          "text": [
            "Error\n",
            "Error\n",
            "Error\n"
          ],
          "name": "stdout"
        },
        {
          "output_type": "execute_result",
          "data": {
            "text/plain": [
              "15"
            ]
          },
          "metadata": {
            "tags": []
          },
          "execution_count": 4
        }
      ]
    }
  ]
}